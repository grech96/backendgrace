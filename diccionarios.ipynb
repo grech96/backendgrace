{
 "cells": [
  {
   "cell_type": "code",
   "execution_count": 23,
   "metadata": {},
   "outputs": [],
   "source": [
    "familia = {\n",
    "    \"Madre\":{\"nombre\":\"Alma\",\"edad\":42},\n",
    "    \"Padre\": {\"nombre\":\"Antoni\",\"edad\":52},\n",
    "    \"Abuela_m\": {\"nombre\":\"Rosa\",\"edad\":70},\n",
    "    \"Abuela_p\": {\"nombre\":\"Gema\",\"edad\":75},\n",
    "    \"Tio1\": {\"nombre\":\"Hugo\",\"edad\":43},\n",
    "    \"Tia1\": {\"nombre\":\"Lore\",\"edad\":40},\n",
    "    \"Padre\": {\"nombre\":\"Antoni\",\"edad\":52}\n",
    "}"
   ]
  },
  {
   "cell_type": "code",
   "execution_count": 21,
   "metadata": {},
   "outputs": [
    {
     "data": {
      "text/plain": [
       "{'nombre': 'Alma', 'edad': 42}"
      ]
     },
     "execution_count": 21,
     "metadata": {},
     "output_type": "execute_result"
    }
   ],
   "source": [
    "familia[\"Madre\"]"
   ]
  },
  {
   "cell_type": "code",
   "execution_count": null,
   "metadata": {},
   "outputs": [],
   "source": []
  },
  {
   "cell_type": "code",
   "execution_count": null,
   "metadata": {},
   "outputs": [],
   "source": []
  }
 ],
 "metadata": {
  "kernelspec": {
   "display_name": "Python 3",
   "language": "python",
   "name": "python3"
  },
  "language_info": {
   "codemirror_mode": {
    "name": "ipython",
    "version": 3
   },
   "file_extension": ".py",
   "mimetype": "text/x-python",
   "name": "python",
   "nbconvert_exporter": "python",
   "pygments_lexer": "ipython3",
   "version": "3.6.5"
  }
 },
 "nbformat": 4,
 "nbformat_minor": 2
}
